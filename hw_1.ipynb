{
 "cells": [
  {
   "cell_type": "markdown",
   "metadata": {},
   "source": [
    "### Student Information\n",
    "Name:刘斐然\n",
    "\n",
    "Student ID:x1067160"
   ]
  },
  {
   "cell_type": "markdown",
   "metadata": {},
   "source": [
    "---"
   ]
  },
  {
   "cell_type": "markdown",
   "metadata": {},
   "source": [
    "### Instructions"
   ]
  },
  {
   "cell_type": "markdown",
   "metadata": {},
   "source": [
    "- Download the dataset provided in this [link](https://archive.ics.uci.edu/ml/datasets/Sentiment+Labelled+Sentences#). The sentiment dataset contains a `sentence` and `score` label. Read what the dataset is about on the link provided before you start exploring it. \n",
    "\n",
    "\n",
    "- Then, you are asked to apply each of the data exploration and data operation techniques learned in the [first lab session](https://goo.gl/Sg4FS1) on the new dataset. You don't need to explain all the procedures as we did in the notebook, but you are expected to provide some **minimal comments** explaining your code. You are also expected to use the same libraries used in the first lab session. You are allowed to use and modify the `helper` functions we provided in the first lab session or create your own. Also, be aware that the helper functions may need modification as you are dealing with a completely different dataset. This part is worth 80% of your grade!\n",
    "\n",
    "\n",
    "- After you have completed the operations, you should attempt the **bonus exercises** provided in the [notebook](https://goo.gl/Sg4FS1) we used for the first lab session. There are six (6) additional exercises; attempt them all, as it is part of your grade (10%). \n",
    "\n",
    "\n",
    "- You are also expected to tidy up your notebook and attempt new data operations that you have learned so far in the Data Mining course. Surprise us! This segment is worth 10% of your grade.\n",
    "\n",
    "\n",
    "- After completing all the above tasks, you are free to remove this header block and submit your assignment following the guide provided in the `README.md` file of the assignment's [repository](https://github.com/omarsar/data_mining_hw_1). "
   ]
  },
  {
   "cell_type": "code",
   "execution_count": 32,
   "metadata": {
    "collapsed": true
   },
   "outputs": [],
   "source": [
    "import pandas as pd\n",
    "from pandas import Series, DataFrame\n",
    "import numpy as np\n",
    "import nltk\n",
    "from sklearn.datasets import fetch_20newsgroups\n",
    "from sklearn.feature_extraction.text import CountVectorizer\n",
    "import plotly.plotly as py\n",
    "import plotly.graph_objs as go\n",
    "import math\n",
    "%matplotlib inline"
   ]
  },
  {
   "cell_type": "code",
   "execution_count": 225,
   "metadata": {
    "collapsed": false
   },
   "outputs": [
    {
     "name": "stdout",
     "output_type": "stream",
     "text": [
      "500\n",
      "500\n"
     ]
    }
   ],
   "source": [
    "f=open('amazon_cells_labelled.txt','rt')\n",
    "lines=f.readlines()\n",
    "positive1 = 0;\n",
    "negative1 = 0;\n",
    "for line in lines:\n",
    "    line1= line.split(\"\\t\")\n",
    "    num = line1[1].strip('\\n')    \n",
    "    if num == '1':\n",
    "        positive1 += 1;       \n",
    "    else:\n",
    "        negative1 += 1;\n",
    "print (positive1)\n",
    "print (negative1)"
   ]
  },
  {
   "cell_type": "code",
   "execution_count": 223,
   "metadata": {
    "collapsed": false
   },
   "outputs": [
    {
     "name": "stdout",
     "output_type": "stream",
     "text": [
      "500\n",
      "500\n"
     ]
    }
   ],
   "source": [
    "f1=open('imdb_labelled.txt','rt')\n",
    "lines=f1.readlines()\n",
    "positive2 = 0;\n",
    "negative2 = 0;\n",
    "for line in lines:\n",
    "    line2= line.split(\"\\t\")\n",
    "    num = line2[1].strip('\\n')\n",
    "    if num == '1':\n",
    "        positive2 += 1;       \n",
    "    else:\n",
    "        negative2 += 1;\n",
    "print (positive2)\n",
    "print (negative2)"
   ]
  },
  {
   "cell_type": "code",
   "execution_count": 340,
   "metadata": {
    "collapsed": false
   },
   "outputs": [
    {
     "name": "stdout",
     "output_type": "stream",
     "text": [
      "500\n",
      "500\n"
     ]
    }
   ],
   "source": [
    "f2=open('yelp_labelled.txt','rt')\n",
    "lines=f2.readlines()\n",
    "positive3 = 0;\n",
    "negative3 = 0;\n",
    "for line in lines:\n",
    "    line3= line.split(\"\\t\")\n",
    "    num = line3[1].strip('\\n')\n",
    "    if num == '1':\n",
    "        positive3 += 1; \n",
    "    else :\n",
    "        negative3 += 1;\n",
    "print (positive3)\n",
    "print (negative3)"
   ]
  },
  {
   "cell_type": "code",
   "execution_count": 254,
   "metadata": {
    "collapsed": false
   },
   "outputs": [],
   "source": [
    "data={'positive=1':[positive1,positive2,positive3],'negative=0':[negative1,negative2,negative3]}"
   ]
  },
  {
   "cell_type": "code",
   "execution_count": 255,
   "metadata": {
    "collapsed": false
   },
   "outputs": [
    {
     "data": {
      "text/html": [
       "<div>\n",
       "<table border=\"1\" class=\"dataframe\">\n",
       "  <thead>\n",
       "    <tr style=\"text-align: right;\">\n",
       "      <th></th>\n",
       "      <th>negative=0</th>\n",
       "      <th>positive=1</th>\n",
       "    </tr>\n",
       "  </thead>\n",
       "  <tbody>\n",
       "    <tr>\n",
       "      <th>document1</th>\n",
       "      <td>500</td>\n",
       "      <td>500</td>\n",
       "    </tr>\n",
       "    <tr>\n",
       "      <th>document2</th>\n",
       "      <td>500</td>\n",
       "      <td>500</td>\n",
       "    </tr>\n",
       "    <tr>\n",
       "      <th>document3</th>\n",
       "      <td>500</td>\n",
       "      <td>500</td>\n",
       "    </tr>\n",
       "  </tbody>\n",
       "</table>\n",
       "</div>"
      ],
      "text/plain": [
       "           negative=0  positive=1\n",
       "document1         500         500\n",
       "document2         500         500\n",
       "document3         500         500"
      ]
     },
     "execution_count": 255,
     "metadata": {},
     "output_type": "execute_result"
    }
   ],
   "source": [
    "df=pd.DataFrame(data,index=[\"document1\",\"document2\",\"document3\"])\n",
    "df"
   ]
  },
  {
   "cell_type": "code",
   "execution_count": 377,
   "metadata": {
    "collapsed": false
   },
   "outputs": [
    {
     "ename": "IndexError",
     "evalue": "list assignment index out of range",
     "output_type": "error",
     "traceback": [
      "\u001b[0;31m---------------------------------------------------------------------------\u001b[0m",
      "\u001b[0;31mIndexError\u001b[0m                                Traceback (most recent call last)",
      "\u001b[0;32m<ipython-input-377-6b16d5c404ef>\u001b[0m in \u001b[0;36m<module>\u001b[0;34m()\u001b[0m\n\u001b[1;32m      9\u001b[0m \u001b[1;31m#print(a1)\u001b[0m\u001b[1;33m\u001b[0m\u001b[1;33m\u001b[0m\u001b[0m\n\u001b[1;32m     10\u001b[0m \u001b[1;32mfor\u001b[0m \u001b[0mn\u001b[0m \u001b[1;32min\u001b[0m \u001b[0mrange\u001b[0m\u001b[1;33m(\u001b[0m\u001b[0mlen\u001b[0m\u001b[1;33m(\u001b[0m\u001b[0ma1\u001b[0m\u001b[1;33m)\u001b[0m\u001b[1;33m)\u001b[0m\u001b[1;33m:\u001b[0m\u001b[1;33m\u001b[0m\u001b[0m\n\u001b[0;32m---> 11\u001b[0;31m     \u001b[0ma2\u001b[0m\u001b[1;33m[\u001b[0m\u001b[0mn\u001b[0m\u001b[1;33m]\u001b[0m\u001b[1;33m=\u001b[0m\u001b[0ma1\u001b[0m\u001b[1;33m[\u001b[0m\u001b[0mn\u001b[0m\u001b[1;33m]\u001b[0m\u001b[1;33m.\u001b[0m\u001b[0msplit\u001b[0m\u001b[1;33m(\u001b[0m\u001b[1;34m'\\t'\u001b[0m\u001b[1;33m)\u001b[0m\u001b[1;33m\u001b[0m\u001b[0m\n\u001b[0m\u001b[1;32m     12\u001b[0m     \u001b[1;31m#print(a2[0])\u001b[0m\u001b[1;33m\u001b[0m\u001b[1;33m\u001b[0m\u001b[0m\n\u001b[1;32m     13\u001b[0m     \u001b[0ma3\u001b[0m\u001b[1;33m=\u001b[0m\u001b[0ma2\u001b[0m\u001b[1;33m[\u001b[0m\u001b[0mn\u001b[0m\u001b[1;33m]\u001b[0m\u001b[1;33m\u001b[0m\u001b[0m\n",
      "\u001b[0;31mIndexError\u001b[0m: list assignment index out of range"
     ]
    }
   ],
   "source": [
    "f=open('amazon_cells_labelled.txt')\n",
    "f1=open('imdb_labelled.txt','rt')\n",
    "f2=open('yelp_labelled.txt','rt')\n",
    "a=f.read()\n",
    "b=f1.read()\n",
    "c=f2.read()\n",
    "a1=a.split('\\n')\n",
    "#a2=a1[0].strip('\\t')\n",
    "#print(a1)\n",
    "for n in range(len(a1)):\n",
    "    a2=a1[n].split('\\t')\n",
    "    #print(a2[0])\n",
    "    a3=a2[n]\n",
    "    n += 1\n",
    "    \n",
    "\n",
    "\n",
    "\n",
    "#a4=a2[1]\n",
    "#data={'comment':a3,'attitude':a4}\n",
    "    \n",
    "#df=pd.DataFrame(data)\n",
    "#df\n",
    "\n",
    "\n"
   ]
  },
  {
   "cell_type": "code",
   "execution_count": 244,
   "metadata": {
    "collapsed": false
   },
   "outputs": [
    {
     "name": "stdout",
     "output_type": "stream",
     "text": [
      "[('Great phone.\\t1', 2), ('Works great!.\\t1', 2), (\"Don't buy this product.\\t0\", 2), ('Great Phone.\\t1', 2), ('Does not fit.\\t0', 2), ('This is a great deal.\\t1', 2), ('If you like a loud buzzing to override all your conversations, then this phone is for you!\\t0', 2), ('Great phone!.\\t1', 2), ('Works great.\\t1', 2), ('Excellent product for the price.\\t1', 2), ('I really recommend this faceplates since it looks very nice, elegant and cool.\\t1', 1), ('', 1), ('I was amazed at the quick arrival of the two original lg cell phone batteries and and at a fraction of the price.\\t1', 1), ('I was able to do voice dialing in the car with no problem.\\t1', 1), ('Phone now holds charge like it did when it was new.\\t1', 1), (\"All in all, I'd expected a better consumer experience from Motorola.\\t0\", 1), ('The text messaging feature is really tricky to use.\\t0', 1), ('Good case, Excellent value.\\t1', 1), ('Does not charge the Cingular (ATT) 8525 phone.\\t0', 1), ('I like design and look of Jabra behing the ear headsets and 5020 is pretty comfortible to wear 24 hours a day without pain in the ear.\\t1', 1), ('Customer service was terrible.\\t0', 1), ('The only thing that I think could improve is the sound leaks out from the headset.\\t0', 1), ('It was an inexpensive piece, but I would still have expected better quality.\\t0', 1), ('Terrible phone holder.\\t0', 1), ('The camera, although rated at an impressive 1.3 megapixels, renders images that fall well below expectations of such a relatively high resolution.\\t0', 1), ('You get what you pay for I guess.\\t0', 1), ('You need at least 3 mins to get to your phone book from the time you first turn on the phone.Battery life is short.\\t0', 1), (\"Also the area where my unit broke).- I'm not too fond of the magnetic strap.\\t0\", 1), ('A PIECE OF JUNK THAT BROKE AFTER BEING ON MY PHONE FOR 2 DAYS!!!\\t0', 1), ('VERY cheap plastic, creaks like an old wooden floor.\\t0', 1), ('Obviously they have a terrible customer service, so you get what you pay for.\\t0', 1), ('Also makes it easier to hold on to.\\t1', 1), ('They made this case too small and is very difficult to install.\\t0', 1), ('Works like a charm.. Works as advertised.\\t1', 1), ('Well packaged, arrived on time, and works as intended.\\t1', 1), ('The noise shield is incrediable.\\t1', 1), ('WORTHWHILE.\\t1', 1), ('Buyer Beware, you could flush money right down the toilet.\\t0', 1), (\"I posted more detailed comments under the grey or black phone, but i have the Fire Red and it's a great color!\\t1\", 1), ('I was very impressed with the price of the cases.\\t1', 1), ('This phone works great.\\t1', 1), ('It was a great phone.\\t1', 1), ('Product is exactly as described.\\t1', 1), ('If you plan to use this in a car forget about it.\\t0', 1), ('However, the ear pads come off easily and after only one week I lost one.\\t0', 1), ('What a piece of junk.. I lose more calls on this phone.\\t0', 1), (\"Couldn't use the unit with sunglasses, not good in Texas!\\t0\", 1), ('This results in the phone being either stuck at max volume or mute.\\t0', 1), ('Logitech Bluetooth Headset is a 10!.\\t1', 1), ('O my gosh the best phone I have ever had.\\t1', 1)]\n"
     ]
    }
   ],
   "source": [
    "y1=Counter(a1)\n",
    "y1\n",
    "print(y1.most_common(50)) "
   ]
  },
  {
   "cell_type": "code",
   "execution_count": null,
   "metadata": {
    "collapsed": false
   },
   "outputs": [],
   "source": []
  },
  {
   "cell_type": "code",
   "execution_count": null,
   "metadata": {
    "collapsed": true
   },
   "outputs": [],
   "source": []
  }
 ],
 "metadata": {
  "anaconda-cloud": {},
  "kernelspec": {
   "display_name": "Python [default]",
   "language": "python",
   "name": "python3"
  },
  "language_info": {
   "codemirror_mode": {
    "name": "ipython",
    "version": 3
   },
   "file_extension": ".py",
   "mimetype": "text/x-python",
   "name": "python",
   "nbconvert_exporter": "python",
   "pygments_lexer": "ipython3",
   "version": "3.5.2"
  }
 },
 "nbformat": 4,
 "nbformat_minor": 2
}
